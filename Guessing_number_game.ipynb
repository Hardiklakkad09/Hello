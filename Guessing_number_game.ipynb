{
 "cells": [
  {
   "cell_type": "code",
   "execution_count": 7,
   "metadata": {},
   "outputs": [
    {
     "name": "stdout",
     "output_type": "stream",
     "text": [
      "Welcome to number guessing game\n",
      "You can guess a number between 1 to 5\n",
      "Your guess number 3 is higher then actual number! Try again\n",
      "It is your 1 attempts\n",
      "Your guess number 2 is higher then actual number! Try again\n",
      "It is your 2 attempts\n",
      "Congratulation.. you are guessing number is perfect match with actual number: 1\n"
     ]
    }
   ],
   "source": [
    "###Creat a random numebr for user\n",
    "import random\n",
    "actual_numer = random.randint(1,5)\n",
    "\n",
    "print('Welcome to number guessing game')\n",
    "print('You can guess a number between 1 to 5')\n",
    "\n",
    "## Attempts variable count howmany time user play this game \n",
    "attempts = 0\n",
    "\n",
    "while True:\n",
    "    guess = input('You can guess your number')\n",
    "    ##here system check shoud user enter enter valdi input or not!!\n",
    "\n",
    "    attempts += 1\n",
    "\n",
    "    try:\n",
    "        guess = int(guess)\n",
    "        if guess > actual_numer:\n",
    "            print(f'Your guess number {guess} is higher then actual number! Try again')\n",
    "        elif guess < actual_numer:\n",
    "            print(f'Your guess number {guess} is lower then actual number! Try again')\n",
    "        elif guess == actual_numer:\n",
    "            print('Congratulation.. you are guessing number is perfect match with actual number:',actual_numer)\n",
    "            break\n",
    "\n",
    "        ##We ask to user should we continue this game or not \n",
    "        play_again = str(input('Would to like to play againg? (y/n): ').lower())\n",
    "        if play_again != 'y':\n",
    "            print('Thanks you for playing Goodbuy.')\n",
    "            break\n",
    "\n",
    "        print(f'It is your {attempts} attempts')\n",
    "    except ValueError:\n",
    "        print('===Please enter a valid integer input and try again===')"
   ]
  },
  {
   "cell_type": "code",
   "execution_count": null,
   "metadata": {},
   "outputs": [],
   "source": []
  }
 ],
 "metadata": {
  "kernelspec": {
   "display_name": "Python 3",
   "language": "python",
   "name": "python3"
  },
  "language_info": {
   "codemirror_mode": {
    "name": "ipython",
    "version": 3
   },
   "file_extension": ".py",
   "mimetype": "text/x-python",
   "name": "python",
   "nbconvert_exporter": "python",
   "pygments_lexer": "ipython3",
   "version": "3.11.9"
  }
 },
 "nbformat": 4,
 "nbformat_minor": 2
}
