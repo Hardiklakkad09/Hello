{
 "cells": [
  {
   "cell_type": "code",
   "execution_count": null,
   "metadata": {},
   "outputs": [],
   "source": [
    "## Simulation of Dice number\n",
    "\n",
    "import random\n",
    "\n",
    "## Creact a list of dice number\n",
    "list = [1,2,3,4,5,6]\n",
    "\n",
    "while True:\n",
    "    dice_number = random.choice(list)\n",
    "    print('you rolled a',dice_number)\n",
    "    ## This given option a to stop or continue\n",
    "    user_input =input('Do you want to roll the dice again? (y/n)')\n",
    "\n",
    "    if user_input != 'y':\n",
    "        break\n",
    "print('Thank you for playing')"
   ]
  }
 ],
 "metadata": {
  "language_info": {
   "name": "python"
  }
 },
 "nbformat": 4,
 "nbformat_minor": 2
}
